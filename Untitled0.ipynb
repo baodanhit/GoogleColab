{
  "nbformat": 4,
  "nbformat_minor": 0,
  "metadata": {
    "colab": {
      "name": "Untitled0.ipynb",
      "provenance": [],
      "authorship_tag": "ABX9TyOYRQWuswnnDgADipeGUoNq",
      "include_colab_link": true
    },
    "kernelspec": {
      "name": "python3",
      "display_name": "Python 3"
    }
  },
  "cells": [
    {
      "cell_type": "markdown",
      "metadata": {
        "id": "view-in-github",
        "colab_type": "text"
      },
      "source": [
        "<a href=\"https://colab.research.google.com/github/baodanhit/GoogleColab/blob/main/Untitled0.ipynb\" target=\"_parent\"><img src=\"https://colab.research.google.com/assets/colab-badge.svg\" alt=\"Open In Colab\"/></a>"
      ]
    },
    {
      "cell_type": "code",
      "metadata": {
        "id": "f8Lnx6PbAiaQ"
      },
      "source": [
        "print(\"Nothing\")"
      ],
      "execution_count": null,
      "outputs": []
    },
    {
      "cell_type": "markdown",
      "metadata": {
        "id": "x2Ni2_xUDrsl"
      },
      "source": [
        "$\\sqrt{x^2+2x}$"
      ]
    },
    {
      "cell_type": "code",
      "metadata": {
        "id": "t-ZBmcVhQPu7"
      },
      "source": [
        ""
      ],
      "execution_count": null,
      "outputs": []
    },
    {
      "cell_type": "markdown",
      "metadata": {
        "id": "ATuW2AL5sVeC"
      },
      "source": [
        "| Heigth | Age | Weight |\n",
        "|--------|-----|--------|\n",
        "|1|2|3|\n",
        "|4|5|6|\n"
      ]
    },
    {
      "cell_type": "markdown",
      "metadata": {
        "id": "KXMBqOZqs0tK"
      },
      "source": [
        "```\n",
        "for i in range(0, len(a)):\n",
        "      count+=1\n",
        "```"
      ]
    },
    {
      "cell_type": "markdown",
      "metadata": {
        "id": "DMP75BWdtalH"
      },
      "source": [
        ""
      ]
    }
  ]
}